{
 "cells": [
  {
   "cell_type": "markdown",
   "metadata": {},
   "source": [
    "# Importing Libraries"
   ]
  },
  {
   "cell_type": "markdown",
   "metadata": {},
   "source": [
    "import pandas as pd\n",
    "import numpy as np"
   ]
  },
  {
   "cell_type": "markdown",
   "metadata": {},
   "source": [
    "#Importing Dataset"
   ]
  },
  {
   "cell_type": "code",
   "execution_count": 82,
   "metadata": {},
   "outputs": [],
   "source": [
    "import pandas as pd\n",
    "import numpy as np\n",
    "data=pd.read_csv(\"weatherAUS.csv\")\n",
    "x=data.iloc[:,[1,2,3,4,7,8,9,10,11,12,13,14,15,16,17,18,19,20,21]].values\n",
    "y=data.iloc[:,-1].values"
   ]
  },
  {
   "cell_type": "code",
   "execution_count": 83,
   "metadata": {
    "scrolled": true
   },
   "outputs": [
    {
     "name": "stdout",
     "output_type": "stream",
     "text": [
      "[['Albury' 13.4 22.9 ... 16.9 21.8 'No']\n",
      " ['Albury' 7.4 25.1 ... 17.2 24.3 'No']\n",
      " ['Albury' 12.9 25.7 ... 21.0 23.2 'No']\n",
      " ...\n",
      " ['Uluru' 3.6 25.3 ... 10.9 24.5 'No']\n",
      " ['Uluru' 5.4 26.9 ... 12.5 26.1 'No']\n",
      " ['Uluru' 7.8 27.0 ... 15.1 26.0 'No']]\n"
     ]
    }
   ],
   "source": [
    "print(x)"
   ]
  },
  {
   "cell_type": "code",
   "execution_count": 84,
   "metadata": {},
   "outputs": [
    {
     "name": "stdout",
     "output_type": "stream",
     "text": [
      "['No' 'No' 'No' ... 'No' 'No' 'No']\n"
     ]
    }
   ],
   "source": [
    "print(y)"
   ]
  },
  {
   "cell_type": "code",
   "execution_count": 85,
   "metadata": {},
   "outputs": [],
   "source": [
    "y=y.reshape(-1,1) #Used to convert 1D array/list into 2D"
   ]
  },
  {
   "cell_type": "code",
   "execution_count": 86,
   "metadata": {},
   "outputs": [
    {
     "name": "stdout",
     "output_type": "stream",
     "text": [
      "[['No']\n",
      " ['No']\n",
      " ['No']\n",
      " ...\n",
      " ['No']\n",
      " ['No']\n",
      " ['No']]\n"
     ]
    }
   ],
   "source": [
    "print(y)"
   ]
  },
  {
   "cell_type": "markdown",
   "metadata": {},
   "source": [
    "# Dealing with Invalid Dataset"
   ]
  },
  {
   "cell_type": "code",
   "execution_count": 87,
   "metadata": {},
   "outputs": [],
   "source": [
    "from sklearn.impute import SimpleImputer\n",
    "imputer=SimpleImputer(missing_values=np.nan,strategy=\"most_frequent\")\n",
    "x=imputer.fit_transform(x)\n",
    "y=imputer.fit_transform(y)"
   ]
  },
  {
   "cell_type": "code",
   "execution_count": 88,
   "metadata": {},
   "outputs": [
    {
     "name": "stdout",
     "output_type": "stream",
     "text": [
      "[['Albury' 13.4 22.9 ... 16.9 21.8 'No']\n",
      " ['Albury' 7.4 25.1 ... 17.2 24.3 'No']\n",
      " ['Albury' 12.9 25.7 ... 21.0 23.2 'No']\n",
      " ...\n",
      " ['Uluru' 3.6 25.3 ... 10.9 24.5 'No']\n",
      " ['Uluru' 5.4 26.9 ... 12.5 26.1 'No']\n",
      " ['Uluru' 7.8 27.0 ... 15.1 26.0 'No']]\n"
     ]
    }
   ],
   "source": [
    "print(x)"
   ]
  },
  {
   "cell_type": "code",
   "execution_count": 89,
   "metadata": {},
   "outputs": [
    {
     "name": "stdout",
     "output_type": "stream",
     "text": [
      "[['No']\n",
      " ['No']\n",
      " ['No']\n",
      " ...\n",
      " ['No']\n",
      " ['No']\n",
      " ['No']]\n"
     ]
    }
   ],
   "source": [
    "print(y)"
   ]
  },
  {
   "cell_type": "markdown",
   "metadata": {},
   "source": [
    "# Encoding Dataset"
   ]
  },
  {
   "cell_type": "code",
   "execution_count": 90,
   "metadata": {},
   "outputs": [],
   "source": [
    "from sklearn.preprocessing import LabelEncoder\n",
    "import warnings as wr\n",
    "wr.filterwarnings(\"ignore\")\n",
    "le1 = LabelEncoder()\n",
    "x[:,0] = le1.fit_transform(x[:,0])\n",
    "le2 = LabelEncoder()\n",
    "x[:,4] = le2.fit_transform(x[:,4])\n",
    "le3 = LabelEncoder()\n",
    "x[:,6] = le3.fit_transform(x[:,6])\n",
    "le4 = LabelEncoder()\n",
    "x[:,7] = le4.fit_transform(x[:,7])\n",
    "le5 = LabelEncoder()\n",
    "x[:,-1] = le5.fit_transform(x[:,-1])\n",
    "le6 = LabelEncoder()\n",
    "y = le6.fit_transform(y)"
   ]
  },
  {
   "cell_type": "code",
   "execution_count": 91,
   "metadata": {},
   "outputs": [
    {
     "name": "stdout",
     "output_type": "stream",
     "text": [
      "[[2 13.4 22.9 ... 16.9 21.8 0]\n",
      " [2 7.4 25.1 ... 17.2 24.3 0]\n",
      " [2 12.9 25.7 ... 21.0 23.2 0]\n",
      " ...\n",
      " [41 3.6 25.3 ... 10.9 24.5 0]\n",
      " [41 5.4 26.9 ... 12.5 26.1 0]\n",
      " [41 7.8 27.0 ... 15.1 26.0 0]]\n"
     ]
    }
   ],
   "source": [
    "print(x)"
   ]
  },
  {
   "cell_type": "code",
   "execution_count": 92,
   "metadata": {},
   "outputs": [
    {
     "name": "stdout",
     "output_type": "stream",
     "text": [
      "[0 0 0 ... 0 0 0]\n"
     ]
    }
   ],
   "source": [
    "print(y)"
   ]
  },
  {
   "cell_type": "markdown",
   "metadata": {},
   "source": [
    "# Feature scaling"
   ]
  },
  {
   "cell_type": "code",
   "execution_count": 93,
   "metadata": {},
   "outputs": [],
   "source": [
    "from sklearn.preprocessing import StandardScaler\n",
    "sc=StandardScaler()\n",
    "x=sc.fit_transform(x)"
   ]
  },
  {
   "cell_type": "code",
   "execution_count": 94,
   "metadata": {
    "scrolled": false
   },
   "outputs": [
    {
     "name": "stdout",
     "output_type": "stream",
     "text": [
      "[[-1.5270045   0.19169797 -0.044926   ... -0.01353307  0.02110819\n",
      "  -0.53296232]\n",
      " [-1.5270045  -0.74708764  0.26444584 ...  0.03281942  0.38476354\n",
      "  -0.53296232]\n",
      " [-1.5270045   0.11346584  0.34881998 ...  0.61995105  0.22475519\n",
      "  -0.53296232]\n",
      " ...\n",
      " [ 1.21224943 -1.34165186  0.29257055 ... -0.94058301  0.41385597\n",
      "  -0.53296232]\n",
      " [ 1.21224943 -1.06001618  0.51756825 ... -0.69336969  0.64659539\n",
      "  -0.53296232]\n",
      " [ 1.21224943 -0.68450193  0.53163061 ... -0.29164805  0.63204918\n",
      "  -0.53296232]]\n"
     ]
    }
   ],
   "source": [
    "print(x)"
   ]
  },
  {
   "cell_type": "markdown",
   "metadata": {},
   "source": [
    "# Spliting Dataset into Training set and Test set"
   ]
  },
  {
   "cell_type": "code",
   "execution_count": 95,
   "metadata": {},
   "outputs": [],
   "source": [
    "from sklearn.model_selection import train_test_split\n",
    "x_train,x_test,y_train,y_test=train_test_split(x,y,test_size=0.2,random_state=0)"
   ]
  },
  {
   "cell_type": "code",
   "execution_count": 96,
   "metadata": {
    "scrolled": true
   },
   "outputs": [
    {
     "name": "stdout",
     "output_type": "stream",
     "text": [
      "[[ 1.56343583  0.26993011 -0.08711307 ...  0.28003274 -0.18253881\n",
      "  -0.53296232]\n",
      " [-1.10558082  1.59987639  0.86912716 ...  1.45429598  0.85024239\n",
      "   1.87630525]\n",
      " [-1.45676722 -0.38721982  1.82536739 ...  1.77876346  1.94120845\n",
      "  -0.53296232]\n",
      " ...\n",
      " [-1.66747906 -0.04299843 -0.79023088 ... -0.38435305 -0.66256387\n",
      "   1.87630525]\n",
      " [ 0.50987663 -0.70014836  0.39100704 ... -0.39980388  0.42840218\n",
      "  -0.53296232]\n",
      " [ 1.63367311  1.22436215  1.16443664 ...  1.40794349  0.16657033\n",
      "  -0.53296232]]\n"
     ]
    }
   ],
   "source": [
    "print(x_train)"
   ]
  },
  {
   "cell_type": "code",
   "execution_count": 97,
   "metadata": {},
   "outputs": [
    {
     "name": "stdout",
     "output_type": "stream",
     "text": [
      "[0 0 0 ... 0 0 1]\n"
     ]
    }
   ],
   "source": [
    "print(y_train)"
   ]
  },
  {
   "cell_type": "markdown",
   "metadata": {},
   "source": [
    "# Training Model"
   ]
  },
  {
   "cell_type": "code",
   "execution_count": 98,
   "metadata": {},
   "outputs": [
    {
     "data": {
      "text/plain": [
       "RandomForestClassifier(random_state=0)"
      ]
     },
     "execution_count": 98,
     "metadata": {},
     "output_type": "execute_result"
    }
   ],
   "source": [
    "from sklearn.ensemble import RandomForestClassifier\n",
    "classifier=RandomForestClassifier(n_estimators=100,random_state=0)\n",
    "classifier.fit(x_train,y_train)"
   ]
  },
  {
   "cell_type": "code",
   "execution_count": 99,
   "metadata": {},
   "outputs": [
    {
     "data": {
      "text/plain": [
       "0.999920881903054"
      ]
     },
     "execution_count": 99,
     "metadata": {},
     "output_type": "execute_result"
    }
   ],
   "source": [
    "classifier.score(x_train,y_train)"
   ]
  },
  {
   "cell_type": "code",
   "execution_count": 100,
   "metadata": {},
   "outputs": [
    {
     "name": "stdout",
     "output_type": "stream",
     "text": [
      "[0 0 0 ... 0 0 1]\n"
     ]
    }
   ],
   "source": [
    "print(y_test)"
   ]
  },
  {
   "cell_type": "code",
   "execution_count": 101,
   "metadata": {},
   "outputs": [],
   "source": [
    "y_pred=classifier.predict(x_test)"
   ]
  },
  {
   "cell_type": "code",
   "execution_count": 102,
   "metadata": {
    "scrolled": true
   },
   "outputs": [
    {
     "name": "stdout",
     "output_type": "stream",
     "text": [
      "[0 0 0 ... 0 0 1]\n"
     ]
    }
   ],
   "source": [
    "print(y_pred)"
   ]
  },
  {
   "cell_type": "code",
   "execution_count": null,
   "metadata": {},
   "outputs": [],
   "source": [
    "#convert values of 0/1 to yes/no"
   ]
  },
  {
   "cell_type": "code",
   "execution_count": 104,
   "metadata": {},
   "outputs": [
    {
     "name": "stdout",
     "output_type": "stream",
     "text": [
      "['No' 'No' 'No' ... 'No' 'No' 'Yes']\n"
     ]
    }
   ],
   "source": [
    "y_pred=le6.inverse_transform(y_pred)\n",
    "print(y_pred)"
   ]
  },
  {
   "cell_type": "code",
   "execution_count": 105,
   "metadata": {},
   "outputs": [
    {
     "name": "stdout",
     "output_type": "stream",
     "text": [
      "['No' 'No' 'No' ... 'No' 'No' 'Yes']\n"
     ]
    }
   ],
   "source": [
    "y_test=le6.inverse_transform(y_test)\n",
    "print(y_test)"
   ]
  },
  {
   "cell_type": "markdown",
   "metadata": {},
   "source": [
    "# Convert data from 1D to 2D form"
   ]
  },
  {
   "cell_type": "code",
   "execution_count": 106,
   "metadata": {},
   "outputs": [],
   "source": [
    "y_pred=y_pred.reshape(-1,1)\n",
    "y_test=y_test.reshape(-1,1)"
   ]
  },
  {
   "cell_type": "markdown",
   "metadata": {},
   "source": [
    "# Concat test & pred data and creat dataframe"
   ]
  },
  {
   "cell_type": "code",
   "execution_count": 107,
   "metadata": {
    "scrolled": true
   },
   "outputs": [
    {
     "name": "stdout",
     "output_type": "stream",
     "text": [
      "[['No' 'No']\n",
      " ['No' 'No']\n",
      " ['No' 'No']\n",
      " ...\n",
      " ['No' 'No']\n",
      " ['No' 'No']\n",
      " ['Yes' 'Yes']]\n"
     ]
    }
   ],
   "source": [
    "df=np.concatenate((y_test,y_pred),axis=1)\n",
    "dataframe=pd.DataFrame(df,columns=[\"Rain on Tommorrow\",\"Prediction of Rain\"])\n",
    "print(df)"
   ]
  },
  {
   "cell_type": "code",
   "execution_count": 108,
   "metadata": {
    "scrolled": true
   },
   "outputs": [
    {
     "name": "stdout",
     "output_type": "stream",
     "text": [
      "      Rain on Tommorrow Prediction of Rain\n",
      "0                    No                 No\n",
      "1                    No                 No\n",
      "2                    No                 No\n",
      "3                    No                 No\n",
      "4                    No                 No\n",
      "5                    No                 No\n",
      "6                   Yes                Yes\n",
      "7                   Yes                Yes\n",
      "8                    No                 No\n",
      "9                    No                 No\n",
      "10                   No                 No\n",
      "11                   No                 No\n",
      "12                   No                 No\n",
      "13                   No                 No\n",
      "14                  Yes                Yes\n",
      "15                   No                 No\n",
      "16                   No                 No\n",
      "17                   No                 No\n",
      "18                   No                 No\n",
      "19                   No                 No\n",
      "20                   No                 No\n",
      "21                   No                 No\n",
      "22                   No                 No\n",
      "23                   No                 No\n",
      "24                   No                 No\n",
      "25                   No                 No\n",
      "26                  Yes                Yes\n",
      "27                   No                 No\n",
      "28                   No                 No\n",
      "29                  Yes                 No\n",
      "...                 ...                ...\n",
      "28409                No                 No\n",
      "28410                No                 No\n",
      "28411                No                 No\n",
      "28412                No                 No\n",
      "28413                No                 No\n",
      "28414                No                 No\n",
      "28415                No                 No\n",
      "28416                No                 No\n",
      "28417               Yes                 No\n",
      "28418                No                 No\n",
      "28419               Yes                 No\n",
      "28420                No                 No\n",
      "28421                No                 No\n",
      "28422                No                 No\n",
      "28423                No                 No\n",
      "28424               Yes                 No\n",
      "28425                No                 No\n",
      "28426                No                 No\n",
      "28427                No                 No\n",
      "28428                No                 No\n",
      "28429                No                 No\n",
      "28430                No                Yes\n",
      "28431                No                 No\n",
      "28432                No                 No\n",
      "28433                No                 No\n",
      "28434                No                 No\n",
      "28435                No                 No\n",
      "28436                No                 No\n",
      "28437                No                 No\n",
      "28438               Yes                Yes\n",
      "\n",
      "[28439 rows x 2 columns]\n"
     ]
    }
   ],
   "source": [
    "print(dataframe)"
   ]
  },
  {
   "cell_type": "markdown",
   "metadata": {},
   "source": [
    "# Calculating Accuracy"
   ]
  },
  {
   "cell_type": "code",
   "execution_count": 109,
   "metadata": {},
   "outputs": [
    {
     "data": {
      "text/plain": [
       "0.8569218326945391"
      ]
     },
     "execution_count": 109,
     "metadata": {},
     "output_type": "execute_result"
    }
   ],
   "source": [
    "from sklearn.metrics import accuracy_score\n",
    "accuracy_score(y_test,y_pred)"
   ]
  },
  {
   "cell_type": "markdown",
   "metadata": {},
   "source": [
    "# Creating File of dataframe"
   ]
  },
  {
   "cell_type": "code",
   "execution_count": 110,
   "metadata": {},
   "outputs": [],
   "source": [
    "dataframe.to_csv('prediction_by_model.csv')"
   ]
  },
  {
   "cell_type": "code",
   "execution_count": null,
   "metadata": {},
   "outputs": [],
   "source": []
  }
 ],
 "metadata": {
  "kernelspec": {
   "display_name": "Python 3",
   "language": "python",
   "name": "python3"
  },
  "language_info": {
   "codemirror_mode": {
    "name": "ipython",
    "version": 3
   },
   "file_extension": ".py",
   "mimetype": "text/x-python",
   "name": "python",
   "nbconvert_exporter": "python",
   "pygments_lexer": "ipython3",
   "version": "3.6.9"
  }
 },
 "nbformat": 4,
 "nbformat_minor": 2
}
